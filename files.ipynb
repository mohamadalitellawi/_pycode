{
 "cells": [
  {
   "cell_type": "code",
   "execution_count": 3,
   "metadata": {},
   "outputs": [
    {
     "name": "stdout",
     "output_type": "stream",
     "text": [
      "The autoreload extension is already loaded. To reload it, use:\n",
      "  %reload_ext autoreload\n"
     ]
    }
   ],
   "source": [
    "%load_ext autoreload\n",
    "%autoreload 2"
   ]
  },
  {
   "cell_type": "code",
   "execution_count": 7,
   "metadata": {},
   "outputs": [
    {
     "data": {
      "text/plain": [
       "WindowsPath('404.rvt')"
      ]
     },
     "execution_count": 7,
     "metadata": {},
     "output_type": "execute_result"
    }
   ],
   "source": [
    "\n",
    "\n",
    "from pathlib import Path\n",
    "import shutil\n",
    "\n",
    "file = r'C:\\Users\\mali\\Hesco\\Shehab Diab - Z12-PACKAGE-4\\2.1-BUILDING\\404\\BASE\\BIM SYSTEM\\Rv_Arch Central Model\\404.rvt'\n",
    "rvt_file = Path(file)\n",
    "rvt_file\n",
    "dest_folder = Path('.')\n",
    "shutil.copy2(rvt_file, dest_folder/rvt_file.name)"
   ]
  },
  {
   "cell_type": "code",
   "execution_count": 43,
   "metadata": {},
   "outputs": [
    {
     "data": {
      "text/plain": [
       "WindowsPath('my_path/2.1-BUILDING/404/BASE/BIM SYSTEM/Rv_Arch Central Model/404.rvt')"
      ]
     },
     "execution_count": 43,
     "metadata": {},
     "output_type": "execute_result"
    }
   ],
   "source": [
    "#final working code\n",
    "file = r'C:\\Users\\mali\\Hesco\\Shehab Diab - Z12-PACKAGE-4\\2.1-BUILDING\\404\\BASE\\BIM SYSTEM\\Rv_Arch Central Model\\404.rvt'\n",
    "rvt_file = Path(file)\n",
    "new_rvt_file = rvt_file.relative_to(rvt_file.parents[-5])\n",
    "dest_folder = Path('.') / 'my_path'\n",
    "new_rvt_file = dest_folder / new_rvt_file\n",
    "new_rvt_file.parent.mkdir(parents=True,exist_ok=True)\n",
    "\n",
    "shutil.copy2(rvt_file,new_rvt_file)"
   ]
  },
  {
   "cell_type": "code",
   "execution_count": 59,
   "metadata": {},
   "outputs": [
    {
     "data": {
      "text/plain": [
       "WindowsPath('C:/Users/mali/Hesco/Shehab Diab - Z12-PACKAGE-4/2.1-BUILDING/404/BASE/BIM SYSTEM/Rv_Arch Central Model/404.rvt')"
      ]
     },
     "metadata": {},
     "output_type": "display_data"
    },
    {
     "data": {
      "text/plain": [
       "WindowsPath('my_path/2.1-BUILDING/404/BASE/BIM SYSTEM/Rv_Arch Central Model/404.rvt')"
      ]
     },
     "metadata": {},
     "output_type": "display_data"
    },
    {
     "data": {
      "text/plain": [
       "WindowsPath('my_path')"
      ]
     },
     "metadata": {},
     "output_type": "display_data"
    },
    {
     "data": {
      "text/plain": [
       "[WindowsPath('C:/Users/mali/Hesco/Shehab Diab - Z12-PACKAGE-4/2.1-BUILDING/404/BASE/BIM SYSTEM/Rv_Arch Central Model'),\n",
       " WindowsPath('C:/Users/mali/Hesco/Shehab Diab - Z12-PACKAGE-4/2.1-BUILDING/404/BASE/BIM SYSTEM'),\n",
       " WindowsPath('C:/Users/mali/Hesco/Shehab Diab - Z12-PACKAGE-4/2.1-BUILDING/404/BASE'),\n",
       " WindowsPath('C:/Users/mali/Hesco/Shehab Diab - Z12-PACKAGE-4/2.1-BUILDING/404'),\n",
       " WindowsPath('C:/Users/mali/Hesco/Shehab Diab - Z12-PACKAGE-4/2.1-BUILDING'),\n",
       " WindowsPath('C:/Users/mali/Hesco/Shehab Diab - Z12-PACKAGE-4'),\n",
       " WindowsPath('C:/Users/mali/Hesco'),\n",
       " WindowsPath('C:/Users/mali'),\n",
       " WindowsPath('C:/Users'),\n",
       " WindowsPath('C:/')]"
      ]
     },
     "execution_count": 59,
     "metadata": {},
     "output_type": "execute_result"
    }
   ],
   "source": [
    "display(rvt_file,new_rvt_file,dest_folder)\n",
    "rvt_file.parts[-2]\n",
    "list(rvt_file.parents)"
   ]
  },
  {
   "cell_type": "code",
   "execution_count": 60,
   "metadata": {},
   "outputs": [],
   "source": [
    "def replicate_file_and_folders(source_file:Path, destination_folder:Path,parents_to_remove:int = 5):\n",
    "    '''\n",
    "    copy the source file to a new location with removing\n",
    "    parent folders from top level.\n",
    "    keep source file folders hierarchy\n",
    "    '''\n",
    "    new_file = source_file.relative_to(source_file.parents[-parents_to_remove])\n",
    "    new_file = destination_folder / new_file\n",
    "    new_file.parent.mkdir(parents=True,exist_ok=True)\n",
    "    shutil.copy2(source_file,new_file)\n",
    "    return True"
   ]
  },
  {
   "cell_type": "code",
   "execution_count": 55,
   "metadata": {},
   "outputs": [],
   "source": [
    "src_folder = Path(r'C:\\Users\\mali\\Hesco\\Shehab Diab - Z12-PACKAGE-4')\n",
    "dest_folder = Path('.') / 'my_path'\n",
    "\n",
    "rvt_files = [f.resolve() for f in src_folder.rglob('*.rvt')]\n",
    "\n",
    "_ = [replicate_file_and_folders(f,dest_folder,len(src_folder.parts)) for f in rvt_files]\n"
   ]
  },
  {
   "cell_type": "code",
   "execution_count": 53,
   "metadata": {},
   "outputs": [
    {
     "data": {
      "text/plain": [
       "5"
      ]
     },
     "execution_count": 53,
     "metadata": {},
     "output_type": "execute_result"
    }
   ],
   "source": [
    "len(src_folder.parts)"
   ]
  },
  {
   "cell_type": "code",
   "execution_count": null,
   "metadata": {},
   "outputs": [],
   "source": []
  }
 ],
 "metadata": {
  "kernelspec": {
   "display_name": "pfse",
   "language": "python",
   "name": "pfse"
  },
  "language_info": {
   "codemirror_mode": {
    "name": "ipython",
    "version": 3
   },
   "file_extension": ".py",
   "mimetype": "text/x-python",
   "name": "python",
   "nbconvert_exporter": "python",
   "pygments_lexer": "ipython3",
   "version": "3.11.7"
  }
 },
 "nbformat": 4,
 "nbformat_minor": 2
}
